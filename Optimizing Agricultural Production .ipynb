{
 "cells": [
  {
   "cell_type": "code",
   "execution_count": 2,
   "metadata": {},
   "outputs": [],
   "source": [
    "import numpy as np \n",
    "import pandas as pd \n",
    "import matplotlib.pyplot as plt \n",
    "import seaborn as sns \n",
    "from ipywidgets import interact \n"
   ]
  },
  {
   "cell_type": "code",
   "execution_count": 3,
   "metadata": {},
   "outputs": [],
   "source": [
    "data = pd.read_csv ('data.csv')"
   ]
  },
  {
   "cell_type": "code",
   "execution_count": 4,
   "metadata": {},
   "outputs": [
    {
     "data": {
      "text/plain": [
       "(2200, 8)"
      ]
     },
     "execution_count": 4,
     "metadata": {},
     "output_type": "execute_result"
    }
   ],
   "source": [
    "data.shape "
   ]
  },
  {
   "cell_type": "code",
   "execution_count": 5,
   "metadata": {},
   "outputs": [
    {
     "data": {
      "text/html": [
       "<div>\n",
       "<style scoped>\n",
       "    .dataframe tbody tr th:only-of-type {\n",
       "        vertical-align: middle;\n",
       "    }\n",
       "\n",
       "    .dataframe tbody tr th {\n",
       "        vertical-align: top;\n",
       "    }\n",
       "\n",
       "    .dataframe thead th {\n",
       "        text-align: right;\n",
       "    }\n",
       "</style>\n",
       "<table border=\"1\" class=\"dataframe\">\n",
       "  <thead>\n",
       "    <tr style=\"text-align: right;\">\n",
       "      <th></th>\n",
       "      <th>N</th>\n",
       "      <th>P</th>\n",
       "      <th>K</th>\n",
       "      <th>temperature</th>\n",
       "      <th>humidity</th>\n",
       "      <th>ph</th>\n",
       "      <th>rainfall</th>\n",
       "      <th>label</th>\n",
       "    </tr>\n",
       "  </thead>\n",
       "  <tbody>\n",
       "    <tr>\n",
       "      <th>0</th>\n",
       "      <td>90</td>\n",
       "      <td>42</td>\n",
       "      <td>43</td>\n",
       "      <td>20.879744</td>\n",
       "      <td>82.002744</td>\n",
       "      <td>6.502985</td>\n",
       "      <td>202.935536</td>\n",
       "      <td>rice</td>\n",
       "    </tr>\n",
       "    <tr>\n",
       "      <th>1</th>\n",
       "      <td>85</td>\n",
       "      <td>58</td>\n",
       "      <td>41</td>\n",
       "      <td>21.770462</td>\n",
       "      <td>80.319644</td>\n",
       "      <td>7.038096</td>\n",
       "      <td>226.655537</td>\n",
       "      <td>rice</td>\n",
       "    </tr>\n",
       "    <tr>\n",
       "      <th>2</th>\n",
       "      <td>60</td>\n",
       "      <td>55</td>\n",
       "      <td>44</td>\n",
       "      <td>23.004459</td>\n",
       "      <td>82.320763</td>\n",
       "      <td>7.840207</td>\n",
       "      <td>263.964248</td>\n",
       "      <td>rice</td>\n",
       "    </tr>\n",
       "    <tr>\n",
       "      <th>3</th>\n",
       "      <td>74</td>\n",
       "      <td>35</td>\n",
       "      <td>40</td>\n",
       "      <td>26.491096</td>\n",
       "      <td>80.158363</td>\n",
       "      <td>6.980401</td>\n",
       "      <td>242.864034</td>\n",
       "      <td>rice</td>\n",
       "    </tr>\n",
       "    <tr>\n",
       "      <th>4</th>\n",
       "      <td>78</td>\n",
       "      <td>42</td>\n",
       "      <td>42</td>\n",
       "      <td>20.130175</td>\n",
       "      <td>81.604873</td>\n",
       "      <td>7.628473</td>\n",
       "      <td>262.717340</td>\n",
       "      <td>rice</td>\n",
       "    </tr>\n",
       "  </tbody>\n",
       "</table>\n",
       "</div>"
      ],
      "text/plain": [
       "    N   P   K  temperature   humidity        ph    rainfall label\n",
       "0  90  42  43    20.879744  82.002744  6.502985  202.935536  rice\n",
       "1  85  58  41    21.770462  80.319644  7.038096  226.655537  rice\n",
       "2  60  55  44    23.004459  82.320763  7.840207  263.964248  rice\n",
       "3  74  35  40    26.491096  80.158363  6.980401  242.864034  rice\n",
       "4  78  42  42    20.130175  81.604873  7.628473  262.717340  rice"
      ]
     },
     "execution_count": 5,
     "metadata": {},
     "output_type": "execute_result"
    }
   ],
   "source": [
    "data.head()"
   ]
  },
  {
   "cell_type": "code",
   "execution_count": 6,
   "metadata": {},
   "outputs": [
    {
     "data": {
      "text/plain": [
       "N              0\n",
       "P              0\n",
       "K              0\n",
       "temperature    0\n",
       "humidity       0\n",
       "ph             0\n",
       "rainfall       0\n",
       "label          0\n",
       "dtype: int64"
      ]
     },
     "execution_count": 6,
     "metadata": {},
     "output_type": "execute_result"
    }
   ],
   "source": [
    "data.isnull().sum()"
   ]
  },
  {
   "cell_type": "code",
   "execution_count": 7,
   "metadata": {},
   "outputs": [
    {
     "data": {
      "text/plain": [
       "chickpea       100\n",
       "banana         100\n",
       "apple          100\n",
       "orange         100\n",
       "maize          100\n",
       "cotton         100\n",
       "pomegranate    100\n",
       "lentil         100\n",
       "watermelon     100\n",
       "rice           100\n",
       "blackgram      100\n",
       "kidneybeans    100\n",
       "pigeonpeas     100\n",
       "coffee         100\n",
       "mango          100\n",
       "mothbeans      100\n",
       "mungbean       100\n",
       "coconut        100\n",
       "jute           100\n",
       "grapes         100\n",
       "muskmelon      100\n",
       "papaya         100\n",
       "Name: label, dtype: int64"
      ]
     },
     "execution_count": 7,
     "metadata": {},
     "output_type": "execute_result"
    }
   ],
   "source": [
    "data['label'].value_counts()"
   ]
  },
  {
   "cell_type": "code",
   "execution_count": 8,
   "metadata": {},
   "outputs": [
    {
     "name": "stdout",
     "output_type": "stream",
     "text": [
      "Average Ratio of Nitrogen in the soil: 50.55\n",
      "Average Ratio of Phosphorous  in the soil: 53.36\n",
      "Average Ratio of potassium in the soil: 48.15\n",
      "Average Temperature  in the Celsious: 25.62\n",
      "Average Relative Humidity : 71.48\n",
      "Average pH value : 6.47\n",
      "Average RainFall in mm : 103.46\n"
     ]
    }
   ],
   "source": [
    "print('Average Ratio of Nitrogen in the soil: {0:.2f}'.format(data['N'].mean()))\n",
    "print('Average Ratio of Phosphorous  in the soil: {0:.2f}'.format(data['P'].mean()))\n",
    "print('Average Ratio of potassium in the soil: {0:.2f}'.format(data['K'].mean()))\n",
    "print('Average Temperature  in the Celsious: {0:.2f}'.format(data['temperature'].mean()))\n",
    "print('Average Relative Humidity : {0:.2f}'.format(data['humidity'].mean()))\n",
    "print('Average pH value : {0:.2f}'.format(data['ph'].mean()))\n",
    "print('Average RainFall in mm : {0:.2f}'.format(data['rainfall'].mean()))\n",
    "\n",
    "\n",
    "\n",
    "\n"
   ]
  },
  {
   "cell_type": "code",
   "execution_count": 9,
   "metadata": {},
   "outputs": [
    {
     "name": "stdout",
     "output_type": "stream",
     "text": [
      "<class 'pandas.core.frame.DataFrame'>\n",
      "RangeIndex: 2200 entries, 0 to 2199\n",
      "Data columns (total 8 columns):\n",
      " #   Column       Non-Null Count  Dtype  \n",
      "---  ------       --------------  -----  \n",
      " 0   N            2200 non-null   int64  \n",
      " 1   P            2200 non-null   int64  \n",
      " 2   K            2200 non-null   int64  \n",
      " 3   temperature  2200 non-null   float64\n",
      " 4   humidity     2200 non-null   float64\n",
      " 5   ph           2200 non-null   float64\n",
      " 6   rainfall     2200 non-null   float64\n",
      " 7   label        2200 non-null   object \n",
      "dtypes: float64(4), int64(3), object(1)\n",
      "memory usage: 137.6+ KB\n"
     ]
    }
   ],
   "source": [
    "data.info()"
   ]
  },
  {
   "cell_type": "code",
   "execution_count": 10,
   "metadata": {},
   "outputs": [
    {
     "data": {
      "application/vnd.jupyter.widget-view+json": {
       "model_id": "6d4354a6290a4c269d0b3a4af4919022",
       "version_major": 2,
       "version_minor": 0
      },
      "text/plain": [
       "interactive(children=(Dropdown(description='crops', options=('chickpea', 'banana', 'apple', 'orange', 'maize',…"
      ]
     },
     "metadata": {},
     "output_type": "display_data"
    }
   ],
   "source": [
    "@interact\n",
    "def summary(crops =list(data['label'].value_counts().index )):\n",
    "    x=data[data['label']==crops]\n",
    "    print(\"-------------------------------\")\n",
    "    print(\"statics for Nitrigen\")\n",
    "    print(\"Min Nitrogen Required:\",x[\"N\"].min())\n",
    "    print(\"Avg Nitrogen Required:\",x[\"N\"].mean())\n",
    "    print(\"Max Nitrogen Required:\",x[\"N\"].max())\n",
    "    print(\"-------------------------------\")\n",
    "    print(\"statics for Phospherous \")\n",
    "    print(\"Min Phospherous Required:\",x[\"P\"].min())\n",
    "    print(\"Avg Phospherous Required:\",x[\"P\"].mean())\n",
    "    print(\"Max Phospherous Required:\",x[\"P\"].max())\n",
    "    print(\"-------------------------------\")\n",
    "    print(\"statics for Potassium  \")\n",
    "    print(\"Min  Potassium Required:\",x[\"K\"].min())\n",
    "    print(\"Avg  Potassium Required:\",x[\"K\"].mean())\n",
    "    print(\"Max  Potassium Required:\",x[\"K\"].max())\n",
    "    print(\"-------------------------------\")\n",
    "    print(\"statics for Temp  \")\n",
    "    print(\"Min  Temp Required:\",x[\"temperature\"].min())\n",
    "    print(\"Avg Temp Required:\",x[\"temperature\"].mean())\n",
    "    print(\"Max Temp Required:\",x[\"temperature\"].max())\n",
    "    print(\"-------------------------------\")\n",
    "    print(\"statics for humidity  \")\n",
    "    print(\"Min  humidity Required:\",x[\"humidity\"].min())\n",
    "    print(\"Avg humidity Required:\",x[\"humidity\"].mean())\n",
    "    print(\"Max humidity Required:\",x[\"humidity\"].max())\n",
    "    print(\"-------------------------------\")\n",
    "    print(\"statics for ph  \")\n",
    "    print(\"Min  ph Required:\",x[\"ph\"].min())\n",
    "    print(\"Avg ph Required:\",x[\"ph\"].mean())\n",
    "    print(\"Max ph Required:\",x[\"ph\"].max())\n",
    "    \n",
    "    print(\"-------------------------------\")\n",
    "    print(\"statics for rainfall \")\n",
    "    print(\"Min  rainfall Required:\",x[\"rainfall\"].min())\n",
    "    print(\"Av rainfall Required:\",x[\"rainfall\"].mean())\n",
    "    print(\"Max rainfall Required:\",x[\"rainfall\"].max())\n",
    "  \n",
    "  \n",
    "  \n",
    "    \n",
    "    \n",
    "    "
   ]
  },
  {
   "cell_type": "code",
   "execution_count": 11,
   "metadata": {},
   "outputs": [
    {
     "data": {
      "application/vnd.jupyter.widget-view+json": {
       "model_id": "017b66d3c8ba48fea7bd676c527752e0",
       "version_major": 2,
       "version_minor": 0
      },
      "text/plain": [
       "interactive(children=(Dropdown(description='conditions', options=('N', 'P', 'K', 'temperature', 'ph', 'humidit…"
      ]
     },
     "metadata": {},
     "output_type": "display_data"
    }
   ],
   "source": [
    "@interact \n",
    "def compare(conditions=['N','P','K','temperature','ph','humidity','rainfall']):\n",
    "    print(\"crops which require greater than Average\",conditions,'\\n')\n",
    "    print(data[data[conditions]>data[conditions].mean()]['label'].unique())\n",
    "    print('-----------------------------------')\n",
    "    print(\" crops which require less than average \",conditions,'\\n')\n",
    "    print(data[data[conditions]<=data[conditions].mean()]['label'].unique())"
   ]
  },
  {
   "cell_type": "code",
   "execution_count": 12,
   "metadata": {},
   "outputs": [
    {
     "name": "stderr",
     "output_type": "stream",
     "text": [
      "C:\\Users\\DAKSHA KATE\\anaconda3\\lib\\site-packages\\seaborn\\distributions.py:2551: FutureWarning: `distplot` is a deprecated function and will be removed in a future version. Please adapt your code to use either `displot` (a figure-level function with similar flexibility) or `histplot` (an axes-level function for histograms).\n",
      "  warnings.warn(msg, FutureWarning)\n",
      "C:\\Users\\DAKSHA KATE\\anaconda3\\lib\\site-packages\\seaborn\\distributions.py:2551: FutureWarning: `distplot` is a deprecated function and will be removed in a future version. Please adapt your code to use either `displot` (a figure-level function with similar flexibility) or `histplot` (an axes-level function for histograms).\n",
      "  warnings.warn(msg, FutureWarning)\n",
      "C:\\Users\\DAKSHA KATE\\anaconda3\\lib\\site-packages\\seaborn\\distributions.py:2551: FutureWarning: `distplot` is a deprecated function and will be removed in a future version. Please adapt your code to use either `displot` (a figure-level function with similar flexibility) or `histplot` (an axes-level function for histograms).\n",
      "  warnings.warn(msg, FutureWarning)\n",
      "C:\\Users\\DAKSHA KATE\\anaconda3\\lib\\site-packages\\seaborn\\distributions.py:2551: FutureWarning: `distplot` is a deprecated function and will be removed in a future version. Please adapt your code to use either `displot` (a figure-level function with similar flexibility) or `histplot` (an axes-level function for histograms).\n",
      "  warnings.warn(msg, FutureWarning)\n",
      "C:\\Users\\DAKSHA KATE\\anaconda3\\lib\\site-packages\\seaborn\\distributions.py:2551: FutureWarning: `distplot` is a deprecated function and will be removed in a future version. Please adapt your code to use either `displot` (a figure-level function with similar flexibility) or `histplot` (an axes-level function for histograms).\n",
      "  warnings.warn(msg, FutureWarning)\n",
      "C:\\Users\\DAKSHA KATE\\anaconda3\\lib\\site-packages\\seaborn\\distributions.py:2551: FutureWarning: `distplot` is a deprecated function and will be removed in a future version. Please adapt your code to use either `displot` (a figure-level function with similar flexibility) or `histplot` (an axes-level function for histograms).\n",
      "  warnings.warn(msg, FutureWarning)\n",
      "C:\\Users\\DAKSHA KATE\\anaconda3\\lib\\site-packages\\seaborn\\distributions.py:2551: FutureWarning: `distplot` is a deprecated function and will be removed in a future version. Please adapt your code to use either `displot` (a figure-level function with similar flexibility) or `histplot` (an axes-level function for histograms).\n",
      "  warnings.warn(msg, FutureWarning)\n"
     ]
    },
    {
     "data": {
      "image/png": "[encoded data removed]",
      "text/plain": [
       "<Figure size 432x288 with 7 Axes>"
      ]
     },
     "metadata": {
      "needs_background": "light"
     },
     "output_type": "display_data"
    }
   ],
   "source": [
    "plt.subplot(2,4,1)\n",
    "sns.distplot(data['N'],color='darkblue')\n",
    "plt.xlabel('Ratio of Nitrogen',fontsize=12)\n",
    "plt.grid()\n",
    "plt.subplot(2,4,2)\n",
    "sns.distplot(data['P'],color='blue')\n",
    "plt.xlabel('Ratio of Phospherous',fontsize=12)\n",
    "plt.grid()\n",
    "plt.subplot(2,4,3)\n",
    "sns.distplot(data['K'],color='green')\n",
    "plt.xlabel('Ratio of Potassium',fontsize=12)\n",
    "plt.grid()\n",
    "plt.subplot(2,4,4)\n",
    "sns.distplot(data['temperature'],color='red')\n",
    "plt.xlabel('Ratio of temperature ',fontsize=12)\n",
    "plt.grid()\n",
    "plt.subplot(2,4,5)\n",
    "sns.distplot(data['humidity'],color='lightgreen')\n",
    "plt.xlabel('Ratio of humidity',fontsize=12)\n",
    "plt.grid()\n",
    "plt.subplot(2,4,6)\n",
    "sns.distplot(data['ph'],color='orange')\n",
    "plt.xlabel('Ratio ofph ',fontsize=12)\n",
    "plt.grid()\n",
    "plt.subplot(2,4,7)\n",
    "sns.distplot(data['rainfall'],color='yellow')\n",
    "plt.xlabel('Ratio of rainfall',fontsize=12)\n",
    "plt.grid()\n",
    "plt.suptitle('Distribution for agriculture condition',fontsize=20)\n",
    "plt.show()"
   ]
  },
  {
   "cell_type": "code",
   "execution_count": 13,
   "metadata": {},
   "outputs": [
    {
     "name": "stdout",
     "output_type": "stream",
     "text": [
      "some Interesting Facts\n",
      "--------------------------\n",
      "Crops which require very high ratio of Nitrogen content in soil: ['cotton']\n",
      "Crops which require very high ratio of Phosphorous content in soil: ['grapes' 'apple']\n",
      "Crops which require very high ratio of Potassium content in soil: ['grapes' 'apple']\n",
      "Crops which require very high Rainfall: ['rice' 'papaya' 'coconut']\n",
      "Crops which require very low temperature: ['grapes']\n",
      "Crops which require very high temperature: ['grapes' 'papaya']\n",
      "Crops which require very Low humidity: ['chickpea' 'kidneybeans']\n",
      "Crops which require very low Ph: ['mothbeans']\n",
      "Crops which require very high Ph: ['mothbeans']\n"
     ]
    }
   ],
   "source": [
    "print(\"some Interesting Facts\")\n",
    "print(\"--------------------------\")\n",
    "print(\"Crops which require very high ratio of Nitrogen content in soil:\",data[data[\"N\"]>120][\"label\"].unique())\n",
    "print(\"Crops which require very high ratio of Phosphorous content in soil:\",data[data[\"P\"]>100][\"label\"].unique())\n",
    "print(\"Crops which require very high ratio of Potassium content in soil:\",data[data[\"K\"]>200][\"label\"].unique())\n",
    "print(\"Crops which require very high Rainfall:\",data[data[\"rainfall\"]>200][\"label\"].unique())\n",
    "print(\"Crops which require very low temperature:\",data[data[\"temperature\"]<10][\"label\"].unique())\n",
    "print(\"Crops which require very high temperature:\",data[data[\"temperature\"]>40][\"label\"].unique())\n",
    "print(\"Crops which require very Low humidity:\",data[data[\"humidity\"]<20][\"label\"].unique())\n",
    "print(\"Crops which require very low Ph:\",data[data[\"ph\"]<4][\"label\"].unique())\n",
    "print(\"Crops which require very high Ph:\",data[data[\"ph\"]>9][\"label\"].unique())"
   ]
  },
  {
   "cell_type": "code",
   "execution_count": 14,
   "metadata": {},
   "outputs": [
    {
     "name": "stdout",
     "output_type": "stream",
     "text": [
      "summer crops\n",
      "['pigeonpeas' 'mothbeans' 'blackgram' 'mango' 'grapes' 'orange' 'papaya']\n",
      "Winter crops\n",
      "['maize' 'pigeonpeas' 'lentil' 'pomegranate' 'grapes' 'orange']\n",
      "Rainy crops\n",
      "['rice' 'papaya' 'coconut']\n"
     ]
    }
   ],
   "source": [
    "## crops which only grows in summer winter rainy season\n",
    "\n",
    "print(\"summer crops\")\n",
    "print(data[(data[\"temperature\"]> 30 ) &(data[\"humidity\"]>50)]['label'].unique())\n",
    "\n",
    "print(\"Winter crops\")\n",
    "print(data[(data[\"temperature\"]< 20 ) &(data[\"humidity\"]>30)]['label'].unique())\n",
    "\n",
    "print(\"Rainy crops\")\n",
    "print(data[(data[\"rainfall\"]> 200 ) &(data[\"humidity\"]>30)]['label'].unique())\n",
    "\n"
   ]
  },
  {
   "cell_type": "code",
   "execution_count": 15,
   "metadata": {},
   "outputs": [
    {
     "name": "stdout",
     "output_type": "stream",
     "text": [
      "(2200, 7)\n"
     ]
    }
   ],
   "source": [
    "from sklearn.cluster import KMeans \n",
    "x=data.drop([\"label\"],axis=1)\n",
    "\n",
    "x=x.values \n",
    "print(x.shape)"
   ]
  },
  {
   "cell_type": "code",
   "execution_count": 16,
   "metadata": {},
   "outputs": [
    {
     "data": {
      "image/png": "[encoded data removed]",
      "text/plain": [
       "<Figure size 720x288 with 1 Axes>"
      ]
     },
     "metadata": {
      "needs_background": "light"
     },
     "output_type": "display_data"
    }
   ],
   "source": [
    "plt.rcParams['figure.figsize']=(10,4)\n",
    "\n",
    "wcss = []\n",
    "for i in range(1,11):\n",
    "    km = KMeans(n_clusters = i,init = 'k-means++', max_iter = 300, n_init = 10, random_state = 0)\n",
    "    km.fit(x)\n",
    "    wcss.append(km.inertia_)\n",
    "    \n",
    "plt.plot(range(1,11),wcss)\n",
    "plt.title('The Elbow Method',fontsize=20 )\n",
    "plt.xlabel('No of Clusters')\n",
    "plt.ylabel('wcss')\n",
    "plt.show()\n",
    "    "
   ]
  },
  {
   "cell_type": "code",
   "execution_count": 17,
   "metadata": {},
   "outputs": [
    {
     "name": "stdout",
     "output_type": "stream",
     "text": [
      "Lets Check the results After Applying the K Means Clustering Analysis \n",
      "\n",
      "Crops in first Cluster: ['rice' 'pigeonpeas' 'papaya' 'coconut' 'jute' 'coffee']\n",
      "-----------------------------\n",
      "Crops in Second Cluster: ['maize' 'chickpea' 'kidneybeans' 'pigeonpeas' 'mothbeans' 'mungbean'\n",
      " 'blackgram' 'lentil' 'pomegranate' 'mango' 'orange' 'papaya' 'coconut']\n",
      "-----------------------------\n",
      "Crops in Third Cluster: ['grapes' 'apple']\n",
      "-----------------------------\n",
      "Crops in Fourth  Cluster: ['maize' 'banana' 'watermelon' 'muskmelon' 'papaya' 'cotton' 'coffee']\n"
     ]
    }
   ],
   "source": [
    "km = KMeans(n_clusters = 4, init = 'k-means++', max_iter = 300, n_init = 10, random_state = 0)\n",
    "y_means = km.fit_predict(x)\n",
    "\n",
    "a = data['label']\n",
    "y_means = pd.DataFrame(y_means)\n",
    "z = pd.concat([y_means,a],axis = 1)\n",
    "\n",
    "z= z.rename(columns = {0:\"cluster\"})\n",
    "print(\"Lets Check the results After Applying the K Means Clustering Analysis \\n\")\n",
    "print(\"Crops in first Cluster:\",z[z['cluster'] == 0]['label'].unique())\n",
    "print('-----------------------------')\n",
    "print(\"Crops in Second Cluster:\",z[z['cluster'] == 1]['label'].unique())\n",
    "print('-----------------------------')\n",
    "print(\"Crops in Third Cluster:\",z[z['cluster'] == 2]['label'].unique())\n",
    "print('-----------------------------')\n",
    "print(\"Crops in Fourth  Cluster:\",z[z['cluster'] == 3]['label'].unique())"
   ]
  },
  {
   "cell_type": "code",
   "execution_count": 18,
   "metadata": {},
   "outputs": [
    {
     "name": "stdout",
     "output_type": "stream",
     "text": [
      "Shape of x: (2200, 7)\n",
      "Shape of y: (2200,)\n"
     ]
    }
   ],
   "source": [
    "y= data['label']\n",
    "x= data.drop(['label'],axis=1)\n",
    "\n",
    "print('Shape of x:',x.shape)\n",
    "print('Shape of y:',y.shape)"
   ]
  },
  {
   "cell_type": "code",
   "execution_count": 19,
   "metadata": {},
   "outputs": [
    {
     "name": "stdout",
     "output_type": "stream",
     "text": [
      "The shape of x train: (1760, 7)\n",
      "The shape of x test: (440, 7)\n",
      "The shape of y train: (1760,)\n",
      "The shape of y test: (440,)\n"
     ]
    }
   ],
   "source": [
    "from sklearn.model_selection import train_test_split\n",
    "\n",
    "x_train,x_test, y_train, y_test = train_test_split(x,y,test_size=0.2, random_state = 0)\n",
    "\n",
    "print(\"The shape of x train:\",x_train.shape)\n",
    "print(\"The shape of x test:\",x_test.shape)\n",
    "print(\"The shape of y train:\",y_train.shape)\n",
    "print(\"The shape of y test:\",y_test.shape)"
   ]
  },
  {
   "cell_type": "code",
   "execution_count": 20,
   "metadata": {},
   "outputs": [
    {
     "name": "stderr",
     "output_type": "stream",
     "text": [
      "C:\\Users\\DAKSHA KATE\\anaconda3\\lib\\site-packages\\sklearn\\linear_model\\_logistic.py:762: ConvergenceWarning: lbfgs failed to converge (status=1):\n",
      "STOP: TOTAL NO. of ITERATIONS REACHED LIMIT.\n",
      "\n",
      "Increase the number of iterations (max_iter) or scale the data as shown in:\n",
      "    https://scikit-learn.org/stable/modules/preprocessing.html\n",
      "Please also refer to the documentation for alternative solver options:\n",
      "    https://scikit-learn.org/stable/modules/linear_model.html#logistic-regression\n",
      "  n_iter_i = _check_optimize_result(\n"
     ]
    }
   ],
   "source": [
    "from sklearn.linear_model import LogisticRegression\n",
    "model = LogisticRegression()\n",
    "model.fit(x_train, y_train)\n",
    "y_pred = model.predict(x_test)"
   ]
  },
  {
   "cell_type": "code",
   "execution_count": 21,
   "metadata": {},
   "outputs": [
    {
     "data": {
      "image/png": "[encoded data removed]",
      "text/plain": [
       "<Figure size 720x720 with 2 Axes>"
      ]
     },
     "metadata": {
      "needs_background": "light"
     },
     "output_type": "display_data"
    }
   ],
   "source": [
    "from sklearn.metrics import confusion_matrix\n",
    "\n",
    "plt.rcParams['figure.figsize']= (10,10)\n",
    "cm = confusion_matrix(y_test,y_pred)\n",
    "\n",
    "sns.heatmap(cm, annot = True, cmap = 'Wistia')\n",
    "plt.title('Confusion Matrix for Logistic Regression', fontsize=15)\n",
    "plt.show()"
   ]
  },
  {
   "cell_type": "code",
   "execution_count": 22,
   "metadata": {},
   "outputs": [
    {
     "name": "stdout",
     "output_type": "stream",
     "text": [
      "              precision    recall  f1-score   support\n",
      "\n",
      "       apple       1.00      1.00      1.00        18\n",
      "      banana       1.00      1.00      1.00        18\n",
      "   blackgram       0.86      0.82      0.84        22\n",
      "    chickpea       1.00      1.00      1.00        23\n",
      "     coconut       1.00      1.00      1.00        15\n",
      "      coffee       1.00      1.00      1.00        17\n",
      "      cotton       0.89      1.00      0.94        16\n",
      "      grapes       1.00      1.00      1.00        18\n",
      "        jute       0.84      1.00      0.91        21\n",
      " kidneybeans       1.00      1.00      1.00        20\n",
      "      lentil       0.94      0.94      0.94        17\n",
      "       maize       0.94      0.89      0.91        18\n",
      "       mango       1.00      1.00      1.00        21\n",
      "   mothbeans       0.88      0.92      0.90        25\n",
      "    mungbean       1.00      1.00      1.00        17\n",
      "   muskmelon       1.00      1.00      1.00        23\n",
      "      orange       1.00      1.00      1.00        23\n",
      "      papaya       1.00      0.95      0.98        21\n",
      "  pigeonpeas       1.00      1.00      1.00        22\n",
      " pomegranate       1.00      1.00      1.00        23\n",
      "        rice       1.00      0.84      0.91        25\n",
      "  watermelon       1.00      1.00      1.00        17\n",
      "\n",
      "    accuracy                           0.97       440\n",
      "   macro avg       0.97      0.97      0.97       440\n",
      "weighted avg       0.97      0.97      0.97       440\n",
      "\n"
     ]
    }
   ],
   "source": [
    "cr = classification_report(y_test, y_pred) \n",
    "print(cr)"
   ]
  },
  {
   "cell_type": "code",
   "execution_count": 1,
   "metadata": {},
   "outputs": [],
   "source": [
    "from sklearn.metrics import classification_report, confusion_matrix, accuracy_score\n"
   ]
  },
  {
   "cell_type": "code",
   "execution_count": 1,
   "metadata": {},
   "outputs": [
    {
     "data": {
      "text/plain": [
       "'C:\\\\Users\\\\DAKSHA KATE\\\\Optimizing Agricultural Production'"
      ]
     },
     "execution_count": 1,
     "metadata": {},
     "output_type": "execute_result"
    }
   ],
   "source": [
    "pwd "
   ]
  },
  {
   "cell_type": "code",
   "execution_count": null,
   "metadata": {},
   "outputs": [],
   "source": []
  }
 ],
 "metadata": {
  "kernelspec": {
   "display_name": "Python 3",
   "language": "python",
   "name": "python3"
  },
  "language_info": {
   "codemirror_mode": {
    "name": "ipython",
    "version": 3
   },
   "file_extension": ".py",
   "mimetype": "text/x-python",
   "name": "python",
   "nbconvert_exporter": "python",
   "pygments_lexer": "ipython3",
   "version": "3.8.5"
  }
 },
 "nbformat": 4,
 "nbformat_minor": 4
}
